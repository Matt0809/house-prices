{
 "cells": [
  {
   "cell_type": "code",
   "execution_count": 1,
   "metadata": {},
   "outputs": [],
   "source": [
    "# All imports\n",
    "\n",
    "import zoopla # Python wrapper for Zoopla API. Installed through pip.\n",
    "import pandas as pd\n",
    "pd.set_option('display.float_format', lambda x: '%.6f' % x,'display.max_columns', None, 'display.max_rows', None)\n",
    "\n",
    "# To get latest file in directory\n",
    "import glob\n",
    "import os\n",
    "\n",
    "import datetime\n",
    "from time import sleep\n",
    "import googlemaps # Python wrapper for Google Maps API. Installed through pip.\n",
    "import time"
   ]
  },
  {
   "cell_type": "code",
   "execution_count": 2,
   "metadata": {},
   "outputs": [
    {
     "name": "stdout",
     "output_type": "stream",
     "text": [
      "2018-04-16 09:00:00\n"
     ]
    }
   ],
   "source": [
    "# t can only be 8 days in the past.\n",
    "t = datetime.datetime(2018,4,16,9)\n",
    "print t"
   ]
  },
  {
   "cell_type": "code",
   "execution_count": 3,
   "metadata": {},
   "outputs": [],
   "source": [
    "def distance_work_1(address):\n",
    "    directions_result = gmaps.directions(address,\n",
    "                                         \"...\",\n",
    "                                         mode=\"transit\",\n",
    "                                         arrival_time=t)\n",
    "    try:\n",
    "        a = directions_result[0][\"legs\"][0][\"duration\"][\"text\"]\n",
    "        return convert_to_mins(a)\n",
    "    except IndexError:\n",
    "        print \"Address empty             \", address"
   ]
  },
  {
   "cell_type": "code",
   "execution_count": null,
   "metadata": {},
   "outputs": [],
   "source": [
    "def distance_work_2(address):\n",
    "    directions_result = gmaps.directions(address,\n",
    "                                         \"...\",\n",
    "                                         mode=\"transit\",\n",
    "                                         arrival_time=t)\n",
    "    try:\n",
    "        a = directions_result[0][\"legs\"][0][\"duration\"][\"text\"]\n",
    "        return convert_to_mins(a)\n",
    "    except IndexError:\n",
    "        print \"Address empty             \", address"
   ]
  },
  {
   "cell_type": "code",
   "execution_count": null,
   "metadata": {},
   "outputs": [],
   "source": [
    "def cycling_work_2(address):\n",
    "    directions_result = gmaps.directions(address,\n",
    "                                         \"...\",\n",
    "                                         mode=\"bicycling\",\n",
    "                                         arrival_time=t)\n",
    "    try:\n",
    "        a = directions_result[0][\"legs\"][0][\"duration\"][\"text\"]\n",
    "        return convert_to_mins(a)\n",
    "    except IndexError:\n",
    "        print \"Address empty             \", address"
   ]
  },
  {
   "cell_type": "code",
   "execution_count": null,
   "metadata": {},
   "outputs": [],
   "source": [
    "def convert_to_mins(s):\n",
    "    if len(str(s).split(\" \"))==2:\n",
    "        return int(s.split(\" \")[0])\n",
    "    if len(str(s).split(\" \"))==4:\n",
    "        return int(s.split(\" \")[0])*60 + int(s.split(\" \")[2])"
   ]
  },
  {
   "cell_type": "code",
   "execution_count": null,
   "metadata": {},
   "outputs": [],
   "source": [
    "\"\"\"\n",
    "Google Maps API's\n",
    "\"\"\"\n",
    "\n",
    "gmapsAPI = {'API_1':'...', 'API_2':'...'}"
   ]
  },
  {
   "cell_type": "code",
   "execution_count": 11,
   "metadata": {},
   "outputs": [
    {
     "name": "stdout",
     "output_type": "stream",
     "text": [
      "0\n",
      "1\n",
      "2\n",
      "3\n",
      "4\n",
      "5\n",
      "Address failed:           Orchestra Court, Edgware, Middlesex HA8\n",
      "6\n"
     ]
    }
   ],
   "source": [
    "\"\"\"\n",
    "Adds commute times\n",
    "\"\"\"\n",
    "\n",
    "# Reads file from previous run\n",
    "list_of_files = glob.glob('.../Zoopla/*')\n",
    "latest_file = max(list_of_files, key=os.path.getctime)\n",
    "df = pd.read_csv(latest_file, index_col=0)\n",
    "df = df.transpose()\n",
    "l = df.to_dict()\n",
    "\n",
    "c = 0\n",
    "written = 0\n",
    "passed = 0\n",
    "\n",
    "a = 0 # API key list iterator\n",
    "a_list = ['gmaps_API_1', 'gmaps_API_2']\n",
    "gmaps = googlemaps.Client(key=gmapsAPI[a_list[a]])\n",
    "\n",
    "class GetOutOfLoop( Exception ):\n",
    "    pass\n",
    "\n",
    "t0 = time.time()\n",
    "\n",
    "try:\n",
    "    for i in l.keys():\n",
    "        print c\n",
    "        c+=1\n",
    "        address = l[i]['displayable_address']\n",
    "        length = len(address.split(\",\"))\n",
    "        while True:\n",
    "            try:\n",
    "                if any( [ l[i]['distance_work_1'] != l[i]['distance_work_1'], \n",
    "                          l[i]['distance_work_2'] != l[i]['distance_work_2'],\n",
    "                          l[i]['distance_work_1'] == l[i]['distance_work_2'],\n",
    "                          any(x not in l[i].keys() for x in ['distance_work_1','distance_work_2']) ] ):\n",
    "                    if l[i]['distance_work_1'] == l[i]['distance_work_2']:\n",
    "                        for x in range(length):\n",
    "                            try:\n",
    "                                l[i]['distance_work_2'] = distance_work_2(','.join(address.split(\",\")[x:]))\n",
    "                            except (googlemaps.exceptions.ApiError, IndexError, TypeError) as e:\n",
    "                                print \"Address failed:          \", ','.join(address.split(\",\")[x:])\n",
    "                            else:\n",
    "                                written += 1\n",
    "                                break\n",
    "                    else:\n",
    "                        for x in range(length):\n",
    "                            try:\n",
    "                                l[i]['distance_work_1'] = distance_work_1(','.join(address.split(\",\")[x:]))\n",
    "                            except (googlemaps.exceptions.ApiError, IndexError, TypeError) as e:\n",
    "                                print \"Address failed:          \", ','.join(address.split(\",\")[x:])\n",
    "                            else:\n",
    "                                l[i]['distance_work_2'] = distance_work_2(','.join(address.split(\",\")[x:]))\n",
    "                                written += 1\n",
    "                                break\n",
    "                else:\n",
    "                    passed += 1\n",
    "     \n",
    "                break\n",
    "        \n",
    "            except (googlemaps.exceptions.Timeout, googlemaps.exceptions.TransportError, googlemaps.exceptions.HTTPError) as e:\n",
    "                if a <= 3:\n",
    "                    a += 1\n",
    "                    gmaps = googlemaps.Client(key=gmapsAPI[a_list[a]])\n",
    "                    print \"Changed API key to: \", a_list[a]\n",
    "                else:\n",
    "                    raise GetOutOfLoop\n",
    "    raise GetOutOfLoop\n",
    "                \n",
    "except GetOutOfLoop:\n",
    "    print \"API limits reached\"\n",
    "    t1 = time.time()\n",
    "    total = t1-t0\n",
    "    total_length = len(l.keys())\n",
    "    print \"Minutes: \", total/60\n",
    "    print \"Length of dictionary: \", total_length\n",
    "    print \"Length covered: \", c\n",
    "    print \"Passed: \", passed\n",
    "    print \"Written: \", written \n",
    "    df = df.from_dict(l)\n",
    "    df = df.transpose()\n",
    "    now = datetime.datetime.now().strftime(\"%H%M%d%m%y\")\n",
    "    df.to_csv(\".../gmaps/\"+str(now)+\".csv\",encoding='utf-8')"
   ]
  },
  {
   "cell_type": "markdown",
   "metadata": {},
   "source": [
    "\n",
    "**Now I need to filter down to less than 60 minutes each.**"
   ]
  },
  {
   "cell_type": "code",
   "execution_count": 12,
   "metadata": {},
   "outputs": [],
   "source": [
    "list_of_files = glob.glob('.../gmaps/*')\n",
    "latest_file = max(list_of_files, key=os.path.getctime)\n",
    "df = pd.read_csv(latest_file,index_col=0)\n",
    "d4 = df.copy()\n",
    "d4['distance_work_2'] = pd.to_numeric(d4['distance_work_2'])\n",
    "d4['distance_work_1'] = pd.to_numeric(d4['distance_work_1'])\n",
    "d4 = d4[(d4['distance_work_2']<=60)&(d4['distance_work_1']<=60)]\n",
    "d4.shape\n",
    "now = datetime.datetime.now().strftime(\"%H%M%d%m%y\")\n",
    "d4.to_csv(\".../filtered/\"+str(now)+\".csv\",encoding='utf-8')"
   ]
  }
 ],
 "metadata": {
  "kernelspec": {
   "display_name": "Python 2",
   "language": "python",
   "name": "python2"
  },
  "language_info": {
   "codemirror_mode": {
    "name": "ipython",
    "version": 2
   },
   "file_extension": ".py",
   "mimetype": "text/x-python",
   "name": "python",
   "nbconvert_exporter": "python",
   "pygments_lexer": "ipython2",
   "version": "2.7.14"
  }
 },
 "nbformat": 4,
 "nbformat_minor": 2
}
