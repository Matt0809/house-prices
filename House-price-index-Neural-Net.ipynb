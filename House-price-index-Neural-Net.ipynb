{
 "cells": [
  {
   "cell_type": "markdown",
   "metadata": {},
   "source": [
    "# House Price Index Neural Network"
   ]
  },
  {
   "cell_type": "code",
   "execution_count": 1,
   "metadata": {},
   "outputs": [],
   "source": [
    "#https://github.com/fastai/fastai/blob/master/courses/dl1/lesson3-rossman.ipynb\n",
    "from fastai.fastai.structured import *\n",
    "from fastai.fastai.column_data import *\n",
    "\n",
    "PATH = 'data/'"
   ]
  },
  {
   "cell_type": "code",
   "execution_count": 2,
   "metadata": {},
   "outputs": [],
   "source": [
    "import numpy as np\n",
    "import pandas as pd\n",
    "\n",
    "pd.set_option('display.height', 1000)\n",
    "pd.set_option('display.max_rows', 500)\n",
    "pd.set_option('display.max_columns',  500)\n",
    "pd.set_option('display.width', 1000)"
   ]
  },
  {
   "cell_type": "markdown",
   "metadata": {},
   "source": [
    "### Y-Norm"
   ]
  },
  {
   "cell_type": "code",
   "execution_count": 96,
   "metadata": {},
   "outputs": [
    {
     "name": "stdout",
     "output_type": "stream",
     "text": [
      "Size of row 50\n",
      "Size of data 556402\n"
     ]
    }
   ],
   "source": [
    "data = pd.read_feather(PATH + 'data')\n",
    "print('Size of row %s' % len(data.iloc[0]))\n",
    "print('Size of data %s' % len(data))"
   ]
  },
  {
   "cell_type": "code",
   "execution_count": 97,
   "metadata": {},
   "outputs": [
    {
     "data": {
      "text/html": [
       "<div>\n",
       "<style scoped>\n",
       "    .dataframe tbody tr th:only-of-type {\n",
       "        vertical-align: middle;\n",
       "    }\n",
       "\n",
       "    .dataframe tbody tr th {\n",
       "        vertical-align: top;\n",
       "    }\n",
       "\n",
       "    .dataframe thead th {\n",
       "        text-align: right;\n",
       "    }\n",
       "</style>\n",
       "<table border=\"1\" class=\"dataframe\">\n",
       "  <thead>\n",
       "    <tr style=\"text-align: right;\">\n",
       "      <th></th>\n",
       "      <th>price</th>\n",
       "      <th>propertyType</th>\n",
       "      <th>oldNew</th>\n",
       "      <th>duration</th>\n",
       "      <th>PAON</th>\n",
       "      <th>District</th>\n",
       "      <th>CURRENT_ENERGY_EFFICIENCY</th>\n",
       "      <th>BUILT_FORM</th>\n",
       "      <th>LOCAL_AUTHORITY</th>\n",
       "      <th>CONSTITUENCY</th>\n",
       "      <th>TRANSACTION_TYPE</th>\n",
       "      <th>ENVIRONMENT_IMPACT_CURRENT</th>\n",
       "      <th>ENERGY_CONSUMPTION_CURRENT</th>\n",
       "      <th>ENERGY_CONSUMPTION_POTENTIAL</th>\n",
       "      <th>CO2_EMISSIONS_CURRENT</th>\n",
       "      <th>LIGHTING_COST_CURRENT</th>\n",
       "      <th>HEATING_COST_CURRENT</th>\n",
       "      <th>HOT_WATER_COST_CURRENT</th>\n",
       "      <th>TOTAL_FLOOR_AREA</th>\n",
       "      <th>ENERGY_TARIFF</th>\n",
       "      <th>MAINS_GAS_FLAG</th>\n",
       "      <th>FLOOR_LEVEL</th>\n",
       "      <th>MAIN_HEATING_CONTROLS</th>\n",
       "      <th>GLAZED_TYPE</th>\n",
       "      <th>EXTENSION_COUNT</th>\n",
       "      <th>NUMBER_HABITABLE_ROOMS</th>\n",
       "      <th>NUMBER_HEATED_ROOMS</th>\n",
       "      <th>NUMBER_OPEN_FIREPLACES</th>\n",
       "      <th>HOTWATER_DESCRIPTION</th>\n",
       "      <th>FLOOR_DESCRIPTION</th>\n",
       "      <th>WINDOWS_DESCRIPTION</th>\n",
       "      <th>WINDOWS_ENERGY_EFF</th>\n",
       "      <th>WINDOWS_ENV_EFF</th>\n",
       "      <th>WALLS_DESCRIPTION</th>\n",
       "      <th>ROOF_DESCRIPTION</th>\n",
       "      <th>MAINHEAT_DESCRIPTION</th>\n",
       "      <th>MAINHEATCONT_DESCRIPTION</th>\n",
       "      <th>LIGHTING_DESCRIPTION</th>\n",
       "      <th>MAIN_FUEL</th>\n",
       "      <th>HEAT_LOSS_CORRIDOOR</th>\n",
       "      <th>MECHANICAL_VENTILATION</th>\n",
       "      <th>postcodeDistrict</th>\n",
       "      <th>postcodeSector</th>\n",
       "      <th>yearOfTransfer</th>\n",
       "      <th>monthOfTransfer</th>\n",
       "      <th>lowerQuartile</th>\n",
       "      <th>upperQuartile</th>\n",
       "      <th>pricePerType</th>\n",
       "      <th>pricePerRegion</th>\n",
       "      <th>salesVolume</th>\n",
       "    </tr>\n",
       "  </thead>\n",
       "  <tbody>\n",
       "    <tr>\n",
       "      <th>0</th>\n",
       "      <td>114500</td>\n",
       "      <td>S</td>\n",
       "      <td>N</td>\n",
       "      <td>F</td>\n",
       "      <td>35</td>\n",
       "      <td>barnet</td>\n",
       "      <td>80.0</td>\n",
       "      <td>Semi-Detached</td>\n",
       "      <td>E09000003</td>\n",
       "      <td>E14000741</td>\n",
       "      <td>rental (private)</td>\n",
       "      <td>78.0</td>\n",
       "      <td>177.0</td>\n",
       "      <td>175.0</td>\n",
       "      <td>1.7</td>\n",
       "      <td>38.0</td>\n",
       "      <td>285.0</td>\n",
       "      <td>81.0</td>\n",
       "      <td>58.24</td>\n",
       "      <td>Single</td>\n",
       "      <td>Y</td>\n",
       "      <td>Ground</td>\n",
       "      <td>Programmer, room thermostat and TRVs</td>\n",
       "      <td>double glazing installed during or after 2002</td>\n",
       "      <td>0.0</td>\n",
       "      <td>3.0</td>\n",
       "      <td>3.0</td>\n",
       "      <td>0.0</td>\n",
       "      <td>From main system</td>\n",
       "      <td>Suspended, insulated (assumed)</td>\n",
       "      <td>Fully double glazed</td>\n",
       "      <td>Good</td>\n",
       "      <td>Good</td>\n",
       "      <td>Solid brick, with internal insulation</td>\n",
       "      <td>(another dwelling above)</td>\n",
       "      <td>Boiler and radiators, mains gas</td>\n",
       "      <td>Programmer, room thermostat and TRVs</td>\n",
       "      <td>Low energy lighting in 75% of fixed outlets</td>\n",
       "      <td>mains gas - this is for backwards compatibilit...</td>\n",
       "      <td>no corridor</td>\n",
       "      <td>natural</td>\n",
       "      <td>NW7</td>\n",
       "      <td>NW7 3</td>\n",
       "      <td>1996</td>\n",
       "      <td>3</td>\n",
       "      <td>59950.0</td>\n",
       "      <td>130000.0</td>\n",
       "      <td>97079.3</td>\n",
       "      <td>91409.8</td>\n",
       "      <td>454.0</td>\n",
       "    </tr>\n",
       "    <tr>\n",
       "      <th>1</th>\n",
       "      <td>97000</td>\n",
       "      <td>T</td>\n",
       "      <td>N</td>\n",
       "      <td>F</td>\n",
       "      <td>6</td>\n",
       "      <td>enfield</td>\n",
       "      <td>52.0</td>\n",
       "      <td>Mid-Terrace</td>\n",
       "      <td>E09000010</td>\n",
       "      <td>E14000687</td>\n",
       "      <td>ECO assessment</td>\n",
       "      <td>44.0</td>\n",
       "      <td>338.0</td>\n",
       "      <td>76.0</td>\n",
       "      <td>5.0</td>\n",
       "      <td>73.0</td>\n",
       "      <td>893.0</td>\n",
       "      <td>133.0</td>\n",
       "      <td>83.00</td>\n",
       "      <td>Single</td>\n",
       "      <td>Y</td>\n",
       "      <td>None</td>\n",
       "      <td>Programmer, no room thermostat</td>\n",
       "      <td>double glazing installed before 2002</td>\n",
       "      <td>1.0</td>\n",
       "      <td>3.0</td>\n",
       "      <td>3.0</td>\n",
       "      <td>0.0</td>\n",
       "      <td>From main system</td>\n",
       "      <td>Suspended, no insulation (assumed)</td>\n",
       "      <td>Fully double glazed</td>\n",
       "      <td>Average</td>\n",
       "      <td>Average</td>\n",
       "      <td>Solid brick, as built, no insulation (assumed)</td>\n",
       "      <td>Pitched, 50 mm loft insulation</td>\n",
       "      <td>Boiler and radiators, mains gas</td>\n",
       "      <td>Programmer, no room thermostat</td>\n",
       "      <td>Low energy lighting in 63% of fixed outlets</td>\n",
       "      <td>mains gas (not community)</td>\n",
       "      <td>None</td>\n",
       "      <td>natural</td>\n",
       "      <td>N9</td>\n",
       "      <td>N9 9</td>\n",
       "      <td>2001</td>\n",
       "      <td>2</td>\n",
       "      <td>82125.0</td>\n",
       "      <td>151500.0</td>\n",
       "      <td>145438.0</td>\n",
       "      <td>127577.4</td>\n",
       "      <td>411.0</td>\n",
       "    </tr>\n",
       "  </tbody>\n",
       "</table>\n",
       "</div>"
      ],
      "text/plain": [
       "    price propertyType oldNew duration PAON District  CURRENT_ENERGY_EFFICIENCY     BUILT_FORM LOCAL_AUTHORITY CONSTITUENCY  TRANSACTION_TYPE  ENVIRONMENT_IMPACT_CURRENT  ENERGY_CONSUMPTION_CURRENT  ENERGY_CONSUMPTION_POTENTIAL  CO2_EMISSIONS_CURRENT  LIGHTING_COST_CURRENT  HEATING_COST_CURRENT  HOT_WATER_COST_CURRENT  TOTAL_FLOOR_AREA ENERGY_TARIFF MAINS_GAS_FLAG FLOOR_LEVEL                 MAIN_HEATING_CONTROLS                                    GLAZED_TYPE  EXTENSION_COUNT  NUMBER_HABITABLE_ROOMS  NUMBER_HEATED_ROOMS  NUMBER_OPEN_FIREPLACES HOTWATER_DESCRIPTION                   FLOOR_DESCRIPTION  WINDOWS_DESCRIPTION WINDOWS_ENERGY_EFF WINDOWS_ENV_EFF                               WALLS_DESCRIPTION                ROOF_DESCRIPTION             MAINHEAT_DESCRIPTION              MAINHEATCONT_DESCRIPTION                         LIGHTING_DESCRIPTION                                          MAIN_FUEL HEAT_LOSS_CORRIDOOR MECHANICAL_VENTILATION postcodeDistrict postcodeSector  \\\n",
       "0  114500            S      N        F   35   barnet                       80.0  Semi-Detached       E09000003    E14000741  rental (private)                        78.0                       177.0                         175.0                    1.7                   38.0                 285.0                    81.0             58.24        Single              Y      Ground  Programmer, room thermostat and TRVs  double glazing installed during or after 2002              0.0                     3.0                  3.0                     0.0     From main system      Suspended, insulated (assumed)  Fully double glazed               Good            Good           Solid brick, with internal insulation        (another dwelling above)  Boiler and radiators, mains gas  Programmer, room thermostat and TRVs  Low energy lighting in 75% of fixed outlets  mains gas - this is for backwards compatibilit...         no corridor                natural              NW7          NW7 3   \n",
       "1   97000            T      N        F    6  enfield                       52.0    Mid-Terrace       E09000010    E14000687    ECO assessment                        44.0                       338.0                          76.0                    5.0                   73.0                 893.0                   133.0             83.00        Single              Y        None        Programmer, no room thermostat           double glazing installed before 2002              1.0                     3.0                  3.0                     0.0     From main system  Suspended, no insulation (assumed)  Fully double glazed            Average         Average  Solid brick, as built, no insulation (assumed)  Pitched, 50 mm loft insulation  Boiler and radiators, mains gas        Programmer, no room thermostat  Low energy lighting in 63% of fixed outlets                          mains gas (not community)                None                natural               N9           N9 9   \n",
       "\n",
       "   yearOfTransfer  monthOfTransfer  lowerQuartile  upperQuartile  pricePerType  pricePerRegion  salesVolume  \n",
       "0            1996                3        59950.0       130000.0       97079.3         91409.8        454.0  \n",
       "1            2001                2        82125.0       151500.0      145438.0        127577.4        411.0  "
      ]
     },
     "execution_count": 97,
     "metadata": {},
     "output_type": "execute_result"
    }
   ],
   "source": [
    "data[:2]"
   ]
  },
  {
   "cell_type": "code",
   "execution_count": 99,
   "metadata": {},
   "outputs": [],
   "source": [
    "data['priceNorm'] = (data['price']-data['pricePerRegion'])/data['pricePerRegion'] + 1\n",
    "data['priceNorm'] = data['priceNorm'].astype('float32')\n",
    "data = data.drop('price', axis=1)"
   ]
  },
  {
   "cell_type": "markdown",
   "metadata": {},
   "source": [
    "### Embedding"
   ]
  },
  {
   "cell_type": "code",
   "execution_count": 100,
   "metadata": {},
   "outputs": [
    {
     "data": {
      "text/html": [
       "<div>\n",
       "<style scoped>\n",
       "    .dataframe tbody tr th:only-of-type {\n",
       "        vertical-align: middle;\n",
       "    }\n",
       "\n",
       "    .dataframe tbody tr th {\n",
       "        vertical-align: top;\n",
       "    }\n",
       "\n",
       "    .dataframe thead th {\n",
       "        text-align: right;\n",
       "    }\n",
       "</style>\n",
       "<table border=\"1\" class=\"dataframe\">\n",
       "  <thead>\n",
       "    <tr style=\"text-align: right;\">\n",
       "      <th></th>\n",
       "      <th>propertyType</th>\n",
       "      <th>oldNew</th>\n",
       "      <th>duration</th>\n",
       "      <th>PAON</th>\n",
       "      <th>District</th>\n",
       "      <th>CURRENT_ENERGY_EFFICIENCY</th>\n",
       "      <th>BUILT_FORM</th>\n",
       "      <th>LOCAL_AUTHORITY</th>\n",
       "      <th>CONSTITUENCY</th>\n",
       "      <th>TRANSACTION_TYPE</th>\n",
       "      <th>ENVIRONMENT_IMPACT_CURRENT</th>\n",
       "      <th>ENERGY_CONSUMPTION_CURRENT</th>\n",
       "      <th>ENERGY_CONSUMPTION_POTENTIAL</th>\n",
       "      <th>CO2_EMISSIONS_CURRENT</th>\n",
       "      <th>LIGHTING_COST_CURRENT</th>\n",
       "      <th>HEATING_COST_CURRENT</th>\n",
       "      <th>HOT_WATER_COST_CURRENT</th>\n",
       "      <th>TOTAL_FLOOR_AREA</th>\n",
       "      <th>ENERGY_TARIFF</th>\n",
       "      <th>MAINS_GAS_FLAG</th>\n",
       "      <th>FLOOR_LEVEL</th>\n",
       "      <th>MAIN_HEATING_CONTROLS</th>\n",
       "      <th>GLAZED_TYPE</th>\n",
       "      <th>EXTENSION_COUNT</th>\n",
       "      <th>NUMBER_HABITABLE_ROOMS</th>\n",
       "      <th>NUMBER_HEATED_ROOMS</th>\n",
       "      <th>NUMBER_OPEN_FIREPLACES</th>\n",
       "      <th>HOTWATER_DESCRIPTION</th>\n",
       "      <th>FLOOR_DESCRIPTION</th>\n",
       "      <th>WINDOWS_DESCRIPTION</th>\n",
       "      <th>WINDOWS_ENERGY_EFF</th>\n",
       "      <th>WINDOWS_ENV_EFF</th>\n",
       "      <th>WALLS_DESCRIPTION</th>\n",
       "      <th>ROOF_DESCRIPTION</th>\n",
       "      <th>MAINHEAT_DESCRIPTION</th>\n",
       "      <th>MAINHEATCONT_DESCRIPTION</th>\n",
       "      <th>LIGHTING_DESCRIPTION</th>\n",
       "      <th>MAIN_FUEL</th>\n",
       "      <th>HEAT_LOSS_CORRIDOOR</th>\n",
       "      <th>MECHANICAL_VENTILATION</th>\n",
       "      <th>postcodeDistrict</th>\n",
       "      <th>postcodeSector</th>\n",
       "      <th>yearOfTransfer</th>\n",
       "      <th>monthOfTransfer</th>\n",
       "      <th>lowerQuartile</th>\n",
       "      <th>upperQuartile</th>\n",
       "      <th>pricePerType</th>\n",
       "      <th>pricePerRegion</th>\n",
       "      <th>salesVolume</th>\n",
       "      <th>priceNorm</th>\n",
       "    </tr>\n",
       "  </thead>\n",
       "  <tbody>\n",
       "    <tr>\n",
       "      <th>0</th>\n",
       "      <td>S</td>\n",
       "      <td>N</td>\n",
       "      <td>F</td>\n",
       "      <td>35</td>\n",
       "      <td>barnet</td>\n",
       "      <td>80.0</td>\n",
       "      <td>Semi-Detached</td>\n",
       "      <td>E09000003</td>\n",
       "      <td>E14000741</td>\n",
       "      <td>rental (private)</td>\n",
       "      <td>78.0</td>\n",
       "      <td>177.0</td>\n",
       "      <td>175.0</td>\n",
       "      <td>1.7</td>\n",
       "      <td>38.0</td>\n",
       "      <td>285.0</td>\n",
       "      <td>81.0</td>\n",
       "      <td>58.24</td>\n",
       "      <td>Single</td>\n",
       "      <td>Y</td>\n",
       "      <td>Ground</td>\n",
       "      <td>Programmer, room thermostat and TRVs</td>\n",
       "      <td>double glazing installed during or after 2002</td>\n",
       "      <td>0.0</td>\n",
       "      <td>3.0</td>\n",
       "      <td>3.0</td>\n",
       "      <td>0.0</td>\n",
       "      <td>From main system</td>\n",
       "      <td>Suspended, insulated (assumed)</td>\n",
       "      <td>Fully double glazed</td>\n",
       "      <td>Good</td>\n",
       "      <td>Good</td>\n",
       "      <td>Solid brick, with internal insulation</td>\n",
       "      <td>(another dwelling above)</td>\n",
       "      <td>Boiler and radiators, mains gas</td>\n",
       "      <td>Programmer, room thermostat and TRVs</td>\n",
       "      <td>Low energy lighting in 75% of fixed outlets</td>\n",
       "      <td>mains gas - this is for backwards compatibilit...</td>\n",
       "      <td>no corridor</td>\n",
       "      <td>natural</td>\n",
       "      <td>NW7</td>\n",
       "      <td>NW7 3</td>\n",
       "      <td>1996</td>\n",
       "      <td>3</td>\n",
       "      <td>59950.0</td>\n",
       "      <td>130000.0</td>\n",
       "      <td>97079.3</td>\n",
       "      <td>91409.8</td>\n",
       "      <td>454.0</td>\n",
       "      <td>1.252601</td>\n",
       "    </tr>\n",
       "    <tr>\n",
       "      <th>1</th>\n",
       "      <td>T</td>\n",
       "      <td>N</td>\n",
       "      <td>F</td>\n",
       "      <td>6</td>\n",
       "      <td>enfield</td>\n",
       "      <td>52.0</td>\n",
       "      <td>Mid-Terrace</td>\n",
       "      <td>E09000010</td>\n",
       "      <td>E14000687</td>\n",
       "      <td>ECO assessment</td>\n",
       "      <td>44.0</td>\n",
       "      <td>338.0</td>\n",
       "      <td>76.0</td>\n",
       "      <td>5.0</td>\n",
       "      <td>73.0</td>\n",
       "      <td>893.0</td>\n",
       "      <td>133.0</td>\n",
       "      <td>83.00</td>\n",
       "      <td>Single</td>\n",
       "      <td>Y</td>\n",
       "      <td>None</td>\n",
       "      <td>Programmer, no room thermostat</td>\n",
       "      <td>double glazing installed before 2002</td>\n",
       "      <td>1.0</td>\n",
       "      <td>3.0</td>\n",
       "      <td>3.0</td>\n",
       "      <td>0.0</td>\n",
       "      <td>From main system</td>\n",
       "      <td>Suspended, no insulation (assumed)</td>\n",
       "      <td>Fully double glazed</td>\n",
       "      <td>Average</td>\n",
       "      <td>Average</td>\n",
       "      <td>Solid brick, as built, no insulation (assumed)</td>\n",
       "      <td>Pitched, 50 mm loft insulation</td>\n",
       "      <td>Boiler and radiators, mains gas</td>\n",
       "      <td>Programmer, no room thermostat</td>\n",
       "      <td>Low energy lighting in 63% of fixed outlets</td>\n",
       "      <td>mains gas (not community)</td>\n",
       "      <td>None</td>\n",
       "      <td>natural</td>\n",
       "      <td>N9</td>\n",
       "      <td>N9 9</td>\n",
       "      <td>2001</td>\n",
       "      <td>2</td>\n",
       "      <td>82125.0</td>\n",
       "      <td>151500.0</td>\n",
       "      <td>145438.0</td>\n",
       "      <td>127577.4</td>\n",
       "      <td>411.0</td>\n",
       "      <td>0.760323</td>\n",
       "    </tr>\n",
       "  </tbody>\n",
       "</table>\n",
       "</div>"
      ],
      "text/plain": [
       "  propertyType oldNew duration PAON District  CURRENT_ENERGY_EFFICIENCY     BUILT_FORM LOCAL_AUTHORITY CONSTITUENCY  TRANSACTION_TYPE  ENVIRONMENT_IMPACT_CURRENT  ENERGY_CONSUMPTION_CURRENT  ENERGY_CONSUMPTION_POTENTIAL  CO2_EMISSIONS_CURRENT  LIGHTING_COST_CURRENT  HEATING_COST_CURRENT  HOT_WATER_COST_CURRENT  TOTAL_FLOOR_AREA ENERGY_TARIFF MAINS_GAS_FLAG FLOOR_LEVEL                 MAIN_HEATING_CONTROLS                                    GLAZED_TYPE  EXTENSION_COUNT  NUMBER_HABITABLE_ROOMS  NUMBER_HEATED_ROOMS  NUMBER_OPEN_FIREPLACES HOTWATER_DESCRIPTION                   FLOOR_DESCRIPTION  WINDOWS_DESCRIPTION WINDOWS_ENERGY_EFF WINDOWS_ENV_EFF                               WALLS_DESCRIPTION                ROOF_DESCRIPTION             MAINHEAT_DESCRIPTION              MAINHEATCONT_DESCRIPTION                         LIGHTING_DESCRIPTION                                          MAIN_FUEL HEAT_LOSS_CORRIDOOR MECHANICAL_VENTILATION postcodeDistrict postcodeSector  yearOfTransfer  \\\n",
       "0            S      N        F   35   barnet                       80.0  Semi-Detached       E09000003    E14000741  rental (private)                        78.0                       177.0                         175.0                    1.7                   38.0                 285.0                    81.0             58.24        Single              Y      Ground  Programmer, room thermostat and TRVs  double glazing installed during or after 2002              0.0                     3.0                  3.0                     0.0     From main system      Suspended, insulated (assumed)  Fully double glazed               Good            Good           Solid brick, with internal insulation        (another dwelling above)  Boiler and radiators, mains gas  Programmer, room thermostat and TRVs  Low energy lighting in 75% of fixed outlets  mains gas - this is for backwards compatibilit...         no corridor                natural              NW7          NW7 3            1996   \n",
       "1            T      N        F    6  enfield                       52.0    Mid-Terrace       E09000010    E14000687    ECO assessment                        44.0                       338.0                          76.0                    5.0                   73.0                 893.0                   133.0             83.00        Single              Y        None        Programmer, no room thermostat           double glazing installed before 2002              1.0                     3.0                  3.0                     0.0     From main system  Suspended, no insulation (assumed)  Fully double glazed            Average         Average  Solid brick, as built, no insulation (assumed)  Pitched, 50 mm loft insulation  Boiler and radiators, mains gas        Programmer, no room thermostat  Low energy lighting in 63% of fixed outlets                          mains gas (not community)                None                natural               N9           N9 9            2001   \n",
       "\n",
       "   monthOfTransfer  lowerQuartile  upperQuartile  pricePerType  pricePerRegion  salesVolume  priceNorm  \n",
       "0                3        59950.0       130000.0       97079.3         91409.8        454.0   1.252601  \n",
       "1                2        82125.0       151500.0      145438.0        127577.4        411.0   0.760323  "
      ]
     },
     "execution_count": 100,
     "metadata": {},
     "output_type": "execute_result"
    }
   ],
   "source": [
    "data[:2]"
   ]
  },
  {
   "cell_type": "code",
   "execution_count": 101,
   "metadata": {},
   "outputs": [
    {
     "name": "stdout",
     "output_type": "stream",
     "text": [
      "No. categorical variables: 35\n",
      "No. continuous variables: 14\n"
     ]
    }
   ],
   "source": [
    "catVariables = ['propertyType', 'oldNew', 'duration', 'PAON', 'District',\n",
    "                'BUILT_FORM', 'LOCAL_AUTHORITY', 'CONSTITUENCY', 'TRANSACTION_TYPE', \n",
    "                'ENERGY_TARIFF','MAINS_GAS_FLAG', 'FLOOR_LEVEL', 'MAIN_HEATING_CONTROLS',\n",
    "               'GLAZED_TYPE', 'EXTENSION_COUNT', 'NUMBER_HABITABLE_ROOMS', 'NUMBER_HEATED_ROOMS',\n",
    "               'NUMBER_OPEN_FIREPLACES', 'HOTWATER_DESCRIPTION', 'FLOOR_DESCRIPTION',\n",
    "               'WINDOWS_DESCRIPTION', 'WINDOWS_ENERGY_EFF', 'WINDOWS_ENV_EFF',\n",
    "               'WALLS_DESCRIPTION', 'ROOF_DESCRIPTION', 'MAINHEAT_DESCRIPTION',\n",
    "                'MAINHEATCONT_DESCRIPTION', 'LIGHTING_DESCRIPTION', \n",
    "                'MAIN_FUEL', 'HEAT_LOSS_CORRIDOOR', 'MECHANICAL_VENTILATION',\n",
    "               'postcodeDistrict', 'postcodeSector', 'yearOfTransfer', 'monthOfTransfer'\n",
    "              ]\n",
    "continVariables = ['CURRENT_ENERGY_EFFICIENCY', 'ENVIRONMENT_IMPACT_CURRENT',\n",
    "                  'ENERGY_CONSUMPTION_CURRENT', 'ENERGY_CONSUMPTION_POTENTIAL',\n",
    "                  'CO2_EMISSIONS_CURRENT', 'LIGHTING_COST_CURRENT', 'HEATING_COST_CURRENT',\n",
    "                  'HOT_WATER_COST_CURRENT', 'TOTAL_FLOOR_AREA', 'lowerQuartile',\n",
    "                   'upperQuartile', 'pricePerType', 'pricePerRegion', 'salesVolume'\n",
    "                  ]\n",
    "\n",
    "print('No. categorical variables: %s' % len(catVariables))\n",
    "print('No. continuous variables: %s' % len(continVariables))"
   ]
  },
  {
   "cell_type": "code",
   "execution_count": 102,
   "metadata": {},
   "outputs": [],
   "source": [
    "for field in catVariables:\n",
    "    data[field] = data[field].astype('category').cat.as_ordered()"
   ]
  },
  {
   "cell_type": "code",
   "execution_count": 103,
   "metadata": {},
   "outputs": [],
   "source": [
    "for field in continVariables:\n",
    "    data[field] = data[field].astype('float32')"
   ]
  },
  {
   "cell_type": "code",
   "execution_count": 104,
   "metadata": {},
   "outputs": [
    {
     "name": "stdout",
     "output_type": "stream",
     "text": [
      "Length of sample: 150000\n"
     ]
    }
   ],
   "source": [
    "n = len(data)\n",
    "idxs = get_cv_idxs(n, val_pct=150000/n)\n",
    "dataSamp = data.iloc[idxs].reset_index().drop('index', axis=1)\n",
    "print('Length of sample: %s'%len(dataSamp))"
   ]
  },
  {
   "cell_type": "code",
   "execution_count": 105,
   "metadata": {},
   "outputs": [
    {
     "data": {
      "text/html": [
       "<div>\n",
       "<style scoped>\n",
       "    .dataframe tbody tr th:only-of-type {\n",
       "        vertical-align: middle;\n",
       "    }\n",
       "\n",
       "    .dataframe tbody tr th {\n",
       "        vertical-align: top;\n",
       "    }\n",
       "\n",
       "    .dataframe thead th {\n",
       "        text-align: right;\n",
       "    }\n",
       "</style>\n",
       "<table border=\"1\" class=\"dataframe\">\n",
       "  <thead>\n",
       "    <tr style=\"text-align: right;\">\n",
       "      <th></th>\n",
       "      <th>propertyType</th>\n",
       "      <th>oldNew</th>\n",
       "      <th>duration</th>\n",
       "      <th>PAON</th>\n",
       "      <th>District</th>\n",
       "      <th>CURRENT_ENERGY_EFFICIENCY</th>\n",
       "      <th>BUILT_FORM</th>\n",
       "      <th>LOCAL_AUTHORITY</th>\n",
       "      <th>CONSTITUENCY</th>\n",
       "      <th>TRANSACTION_TYPE</th>\n",
       "      <th>ENVIRONMENT_IMPACT_CURRENT</th>\n",
       "      <th>ENERGY_CONSUMPTION_CURRENT</th>\n",
       "      <th>ENERGY_CONSUMPTION_POTENTIAL</th>\n",
       "      <th>CO2_EMISSIONS_CURRENT</th>\n",
       "      <th>LIGHTING_COST_CURRENT</th>\n",
       "      <th>HEATING_COST_CURRENT</th>\n",
       "      <th>HOT_WATER_COST_CURRENT</th>\n",
       "      <th>TOTAL_FLOOR_AREA</th>\n",
       "      <th>ENERGY_TARIFF</th>\n",
       "      <th>MAINS_GAS_FLAG</th>\n",
       "      <th>FLOOR_LEVEL</th>\n",
       "      <th>MAIN_HEATING_CONTROLS</th>\n",
       "      <th>GLAZED_TYPE</th>\n",
       "      <th>EXTENSION_COUNT</th>\n",
       "      <th>NUMBER_HABITABLE_ROOMS</th>\n",
       "      <th>NUMBER_HEATED_ROOMS</th>\n",
       "      <th>NUMBER_OPEN_FIREPLACES</th>\n",
       "      <th>HOTWATER_DESCRIPTION</th>\n",
       "      <th>FLOOR_DESCRIPTION</th>\n",
       "      <th>WINDOWS_DESCRIPTION</th>\n",
       "      <th>WINDOWS_ENERGY_EFF</th>\n",
       "      <th>WINDOWS_ENV_EFF</th>\n",
       "      <th>WALLS_DESCRIPTION</th>\n",
       "      <th>ROOF_DESCRIPTION</th>\n",
       "      <th>MAINHEAT_DESCRIPTION</th>\n",
       "      <th>MAINHEATCONT_DESCRIPTION</th>\n",
       "      <th>LIGHTING_DESCRIPTION</th>\n",
       "      <th>MAIN_FUEL</th>\n",
       "      <th>HEAT_LOSS_CORRIDOOR</th>\n",
       "      <th>MECHANICAL_VENTILATION</th>\n",
       "      <th>postcodeDistrict</th>\n",
       "      <th>postcodeSector</th>\n",
       "      <th>yearOfTransfer</th>\n",
       "      <th>monthOfTransfer</th>\n",
       "      <th>lowerQuartile</th>\n",
       "      <th>upperQuartile</th>\n",
       "      <th>pricePerType</th>\n",
       "      <th>pricePerRegion</th>\n",
       "      <th>salesVolume</th>\n",
       "      <th>priceNorm</th>\n",
       "    </tr>\n",
       "  </thead>\n",
       "  <tbody>\n",
       "    <tr>\n",
       "      <th>0</th>\n",
       "      <td>T</td>\n",
       "      <td>N</td>\n",
       "      <td>F</td>\n",
       "      <td>15</td>\n",
       "      <td>greenwich</td>\n",
       "      <td>76.0</td>\n",
       "      <td>Semi-Detached</td>\n",
       "      <td>E09000011</td>\n",
       "      <td>E14000718</td>\n",
       "      <td>marketed sale</td>\n",
       "      <td>74.0</td>\n",
       "      <td>162.0</td>\n",
       "      <td>157.0</td>\n",
       "      <td>3.2</td>\n",
       "      <td>93.0</td>\n",
       "      <td>453.0</td>\n",
       "      <td>114.0</td>\n",
       "      <td>118.309998</td>\n",
       "      <td>Single</td>\n",
       "      <td>Y</td>\n",
       "      <td>NaN</td>\n",
       "      <td>Programmer, room thermostat and TRVs</td>\n",
       "      <td>double glazing installed during or after 2002</td>\n",
       "      <td>0.0</td>\n",
       "      <td>6.0</td>\n",
       "      <td>6.0</td>\n",
       "      <td>0.0</td>\n",
       "      <td>From main system</td>\n",
       "      <td>Solid, no insulation (assumed)</td>\n",
       "      <td>Fully double glazed</td>\n",
       "      <td>Good</td>\n",
       "      <td>Good</td>\n",
       "      <td>Cavity wall, as built, insulated (assumed)</td>\n",
       "      <td>Pitched, 300+ mm loft insulation</td>\n",
       "      <td>Boiler and radiators, mains gas</td>\n",
       "      <td>Programmer, room thermostat and TRVs</td>\n",
       "      <td>Low energy lighting in 50% of fixed outlets</td>\n",
       "      <td>mains gas - this is for backwards compatibilit...</td>\n",
       "      <td>NaN</td>\n",
       "      <td>natural</td>\n",
       "      <td>SE7</td>\n",
       "      <td>SE7 8</td>\n",
       "      <td>2007</td>\n",
       "      <td>5</td>\n",
       "      <td>170000.0</td>\n",
       "      <td>270000.0</td>\n",
       "      <td>282457.59375</td>\n",
       "      <td>225765.203125</td>\n",
       "      <td>419.0</td>\n",
       "      <td>1.040904</td>\n",
       "    </tr>\n",
       "    <tr>\n",
       "      <th>1</th>\n",
       "      <td>S</td>\n",
       "      <td>N</td>\n",
       "      <td>F</td>\n",
       "      <td>559</td>\n",
       "      <td>greenwich</td>\n",
       "      <td>59.0</td>\n",
       "      <td>Semi-Detached</td>\n",
       "      <td>E09000011</td>\n",
       "      <td>E14000690</td>\n",
       "      <td>marketed sale</td>\n",
       "      <td>55.0</td>\n",
       "      <td>252.0</td>\n",
       "      <td>66.0</td>\n",
       "      <td>4.1</td>\n",
       "      <td>66.0</td>\n",
       "      <td>771.0</td>\n",
       "      <td>110.0</td>\n",
       "      <td>86.000000</td>\n",
       "      <td>Single</td>\n",
       "      <td>Y</td>\n",
       "      <td>NaN</td>\n",
       "      <td>Programmer, TRVs and bypass</td>\n",
       "      <td>double glazing, unknown install date</td>\n",
       "      <td>0.0</td>\n",
       "      <td>5.0</td>\n",
       "      <td>5.0</td>\n",
       "      <td>0.0</td>\n",
       "      <td>From main system</td>\n",
       "      <td>Suspended, no insulation (assumed)</td>\n",
       "      <td>Fully double glazed</td>\n",
       "      <td>Average</td>\n",
       "      <td>Average</td>\n",
       "      <td>Solid brick, as built, no insulation (assumed)</td>\n",
       "      <td>Pitched, 50 mm loft insulation</td>\n",
       "      <td>Boiler and radiators, mains gas</td>\n",
       "      <td>Programmer, TRVs and bypass</td>\n",
       "      <td>Low energy lighting in 71% of fixed outlets</td>\n",
       "      <td>mains gas (not community)</td>\n",
       "      <td>NaN</td>\n",
       "      <td>natural</td>\n",
       "      <td>SE9</td>\n",
       "      <td>SE9 6</td>\n",
       "      <td>2003</td>\n",
       "      <td>10</td>\n",
       "      <td>118000.0</td>\n",
       "      <td>210000.0</td>\n",
       "      <td>267386.59375</td>\n",
       "      <td>173904.796875</td>\n",
       "      <td>419.0</td>\n",
       "      <td>1.023548</td>\n",
       "    </tr>\n",
       "  </tbody>\n",
       "</table>\n",
       "</div>"
      ],
      "text/plain": [
       "  propertyType oldNew duration PAON   District  CURRENT_ENERGY_EFFICIENCY     BUILT_FORM LOCAL_AUTHORITY CONSTITUENCY TRANSACTION_TYPE  ENVIRONMENT_IMPACT_CURRENT  ENERGY_CONSUMPTION_CURRENT  ENERGY_CONSUMPTION_POTENTIAL  CO2_EMISSIONS_CURRENT  LIGHTING_COST_CURRENT  HEATING_COST_CURRENT  HOT_WATER_COST_CURRENT  TOTAL_FLOOR_AREA ENERGY_TARIFF MAINS_GAS_FLAG FLOOR_LEVEL                 MAIN_HEATING_CONTROLS                                    GLAZED_TYPE EXTENSION_COUNT NUMBER_HABITABLE_ROOMS NUMBER_HEATED_ROOMS NUMBER_OPEN_FIREPLACES HOTWATER_DESCRIPTION                   FLOOR_DESCRIPTION  WINDOWS_DESCRIPTION WINDOWS_ENERGY_EFF WINDOWS_ENV_EFF                               WALLS_DESCRIPTION                  ROOF_DESCRIPTION             MAINHEAT_DESCRIPTION              MAINHEATCONT_DESCRIPTION                         LIGHTING_DESCRIPTION                                          MAIN_FUEL HEAT_LOSS_CORRIDOOR MECHANICAL_VENTILATION postcodeDistrict postcodeSector yearOfTransfer  \\\n",
       "0            T      N        F   15  greenwich                       76.0  Semi-Detached       E09000011    E14000718    marketed sale                        74.0                       162.0                         157.0                    3.2                   93.0                 453.0                   114.0        118.309998        Single              Y         NaN  Programmer, room thermostat and TRVs  double glazing installed during or after 2002             0.0                    6.0                 6.0                    0.0     From main system      Solid, no insulation (assumed)  Fully double glazed               Good            Good      Cavity wall, as built, insulated (assumed)  Pitched, 300+ mm loft insulation  Boiler and radiators, mains gas  Programmer, room thermostat and TRVs  Low energy lighting in 50% of fixed outlets  mains gas - this is for backwards compatibilit...                 NaN                natural              SE7          SE7 8           2007   \n",
       "1            S      N        F  559  greenwich                       59.0  Semi-Detached       E09000011    E14000690    marketed sale                        55.0                       252.0                          66.0                    4.1                   66.0                 771.0                   110.0         86.000000        Single              Y         NaN           Programmer, TRVs and bypass           double glazing, unknown install date             0.0                    5.0                 5.0                    0.0     From main system  Suspended, no insulation (assumed)  Fully double glazed            Average         Average  Solid brick, as built, no insulation (assumed)    Pitched, 50 mm loft insulation  Boiler and radiators, mains gas           Programmer, TRVs and bypass  Low energy lighting in 71% of fixed outlets                          mains gas (not community)                 NaN                natural              SE9          SE9 6           2003   \n",
       "\n",
       "  monthOfTransfer  lowerQuartile  upperQuartile  pricePerType  pricePerRegion  salesVolume  priceNorm  \n",
       "0               5       170000.0       270000.0  282457.59375   225765.203125        419.0   1.040904  \n",
       "1              10       118000.0       210000.0  267386.59375   173904.796875        419.0   1.023548  "
      ]
     },
     "execution_count": 105,
     "metadata": {},
     "output_type": "execute_result"
    }
   ],
   "source": [
    "dataSamp[:2]"
   ]
  },
  {
   "cell_type": "code",
   "execution_count": 107,
   "metadata": {},
   "outputs": [],
   "source": [
    "df, y, nas, mapper = proc_df(dataSamp, 'priceNorm', do_scale=True)\n",
    "yl = np.log(y)"
   ]
  },
  {
   "cell_type": "code",
   "execution_count": 108,
   "metadata": {},
   "outputs": [
    {
     "data": {
      "text/html": [
       "<div>\n",
       "<style scoped>\n",
       "    .dataframe tbody tr th:only-of-type {\n",
       "        vertical-align: middle;\n",
       "    }\n",
       "\n",
       "    .dataframe tbody tr th {\n",
       "        vertical-align: top;\n",
       "    }\n",
       "\n",
       "    .dataframe thead th {\n",
       "        text-align: right;\n",
       "    }\n",
       "</style>\n",
       "<table border=\"1\" class=\"dataframe\">\n",
       "  <thead>\n",
       "    <tr style=\"text-align: right;\">\n",
       "      <th></th>\n",
       "      <th>propertyType</th>\n",
       "      <th>oldNew</th>\n",
       "      <th>duration</th>\n",
       "      <th>PAON</th>\n",
       "      <th>District</th>\n",
       "      <th>CURRENT_ENERGY_EFFICIENCY</th>\n",
       "      <th>BUILT_FORM</th>\n",
       "      <th>LOCAL_AUTHORITY</th>\n",
       "      <th>CONSTITUENCY</th>\n",
       "      <th>TRANSACTION_TYPE</th>\n",
       "      <th>ENVIRONMENT_IMPACT_CURRENT</th>\n",
       "      <th>ENERGY_CONSUMPTION_CURRENT</th>\n",
       "      <th>ENERGY_CONSUMPTION_POTENTIAL</th>\n",
       "      <th>CO2_EMISSIONS_CURRENT</th>\n",
       "      <th>LIGHTING_COST_CURRENT</th>\n",
       "      <th>HEATING_COST_CURRENT</th>\n",
       "      <th>HOT_WATER_COST_CURRENT</th>\n",
       "      <th>TOTAL_FLOOR_AREA</th>\n",
       "      <th>ENERGY_TARIFF</th>\n",
       "      <th>MAINS_GAS_FLAG</th>\n",
       "      <th>FLOOR_LEVEL</th>\n",
       "      <th>MAIN_HEATING_CONTROLS</th>\n",
       "      <th>GLAZED_TYPE</th>\n",
       "      <th>EXTENSION_COUNT</th>\n",
       "      <th>NUMBER_HABITABLE_ROOMS</th>\n",
       "      <th>NUMBER_HEATED_ROOMS</th>\n",
       "      <th>NUMBER_OPEN_FIREPLACES</th>\n",
       "      <th>HOTWATER_DESCRIPTION</th>\n",
       "      <th>FLOOR_DESCRIPTION</th>\n",
       "      <th>WINDOWS_DESCRIPTION</th>\n",
       "      <th>WINDOWS_ENERGY_EFF</th>\n",
       "      <th>WINDOWS_ENV_EFF</th>\n",
       "      <th>WALLS_DESCRIPTION</th>\n",
       "      <th>ROOF_DESCRIPTION</th>\n",
       "      <th>MAINHEAT_DESCRIPTION</th>\n",
       "      <th>MAINHEATCONT_DESCRIPTION</th>\n",
       "      <th>LIGHTING_DESCRIPTION</th>\n",
       "      <th>MAIN_FUEL</th>\n",
       "      <th>HEAT_LOSS_CORRIDOOR</th>\n",
       "      <th>MECHANICAL_VENTILATION</th>\n",
       "      <th>postcodeDistrict</th>\n",
       "      <th>postcodeSector</th>\n",
       "      <th>yearOfTransfer</th>\n",
       "      <th>monthOfTransfer</th>\n",
       "      <th>lowerQuartile</th>\n",
       "      <th>upperQuartile</th>\n",
       "      <th>pricePerType</th>\n",
       "      <th>pricePerRegion</th>\n",
       "      <th>salesVolume</th>\n",
       "      <th>lowerQuartile_na</th>\n",
       "      <th>upperQuartile_na</th>\n",
       "      <th>pricePerType_na</th>\n",
       "      <th>salesVolume_na</th>\n",
       "    </tr>\n",
       "  </thead>\n",
       "  <tbody>\n",
       "    <tr>\n",
       "      <th>0</th>\n",
       "      <td>5</td>\n",
       "      <td>1</td>\n",
       "      <td>1</td>\n",
       "      <td>179</td>\n",
       "      <td>13</td>\n",
       "      <td>1.335155</td>\n",
       "      <td>7</td>\n",
       "      <td>14</td>\n",
       "      <td>28</td>\n",
       "      <td>6</td>\n",
       "      <td>1.414173</td>\n",
       "      <td>-0.185561</td>\n",
       "      <td>-0.121637</td>\n",
       "      <td>-0.138622</td>\n",
       "      <td>0.142510</td>\n",
       "      <td>-0.581682</td>\n",
       "      <td>-0.261290</td>\n",
       "      <td>0.186856</td>\n",
       "      <td>1</td>\n",
       "      <td>2</td>\n",
       "      <td>0</td>\n",
       "      <td>48</td>\n",
       "      <td>3</td>\n",
       "      <td>1</td>\n",
       "      <td>7</td>\n",
       "      <td>7</td>\n",
       "      <td>1</td>\n",
       "      <td>20</td>\n",
       "      <td>20</td>\n",
       "      <td>5</td>\n",
       "      <td>2</td>\n",
       "      <td>2</td>\n",
       "      <td>3</td>\n",
       "      <td>91</td>\n",
       "      <td>20</td>\n",
       "      <td>48</td>\n",
       "      <td>61</td>\n",
       "      <td>25</td>\n",
       "      <td>0</td>\n",
       "      <td>3</td>\n",
       "      <td>89</td>\n",
       "      <td>352</td>\n",
       "      <td>13</td>\n",
       "      <td>5</td>\n",
       "      <td>-0.088053</td>\n",
       "      <td>-0.297357</td>\n",
       "      <td>0.282285</td>\n",
       "      <td>-0.261687</td>\n",
       "      <td>0.167996</td>\n",
       "      <td>-0.002582</td>\n",
       "      <td>-0.002582</td>\n",
       "      <td>-0.086812</td>\n",
       "      <td>-0.026842</td>\n",
       "    </tr>\n",
       "    <tr>\n",
       "      <th>1</th>\n",
       "      <td>4</td>\n",
       "      <td>1</td>\n",
       "      <td>1</td>\n",
       "      <td>815</td>\n",
       "      <td>13</td>\n",
       "      <td>-0.029372</td>\n",
       "      <td>7</td>\n",
       "      <td>14</td>\n",
       "      <td>22</td>\n",
       "      <td>6</td>\n",
       "      <td>-0.049289</td>\n",
       "      <td>-0.171137</td>\n",
       "      <td>-0.149022</td>\n",
       "      <td>-0.137777</td>\n",
       "      <td>-0.298279</td>\n",
       "      <td>-0.007006</td>\n",
       "      <td>-0.321934</td>\n",
       "      <td>-0.116552</td>\n",
       "      <td>1</td>\n",
       "      <td>2</td>\n",
       "      <td>0</td>\n",
       "      <td>44</td>\n",
       "      <td>4</td>\n",
       "      <td>1</td>\n",
       "      <td>6</td>\n",
       "      <td>6</td>\n",
       "      <td>1</td>\n",
       "      <td>20</td>\n",
       "      <td>26</td>\n",
       "      <td>5</td>\n",
       "      <td>1</td>\n",
       "      <td>1</td>\n",
       "      <td>38</td>\n",
       "      <td>97</td>\n",
       "      <td>20</td>\n",
       "      <td>44</td>\n",
       "      <td>84</td>\n",
       "      <td>24</td>\n",
       "      <td>0</td>\n",
       "      <td>3</td>\n",
       "      <td>91</td>\n",
       "      <td>361</td>\n",
       "      <td>9</td>\n",
       "      <td>10</td>\n",
       "      <td>-0.594271</td>\n",
       "      <td>-0.533265</td>\n",
       "      <td>0.163808</td>\n",
       "      <td>-0.564153</td>\n",
       "      <td>0.167996</td>\n",
       "      <td>-0.002582</td>\n",
       "      <td>-0.002582</td>\n",
       "      <td>-0.086812</td>\n",
       "      <td>-0.026842</td>\n",
       "    </tr>\n",
       "  </tbody>\n",
       "</table>\n",
       "</div>"
      ],
      "text/plain": [
       "   propertyType  oldNew  duration  PAON  District  CURRENT_ENERGY_EFFICIENCY  BUILT_FORM  LOCAL_AUTHORITY  CONSTITUENCY  TRANSACTION_TYPE  ENVIRONMENT_IMPACT_CURRENT  ENERGY_CONSUMPTION_CURRENT  ENERGY_CONSUMPTION_POTENTIAL  CO2_EMISSIONS_CURRENT  LIGHTING_COST_CURRENT  HEATING_COST_CURRENT  HOT_WATER_COST_CURRENT  TOTAL_FLOOR_AREA  ENERGY_TARIFF  MAINS_GAS_FLAG  FLOOR_LEVEL  MAIN_HEATING_CONTROLS  GLAZED_TYPE  EXTENSION_COUNT  NUMBER_HABITABLE_ROOMS  NUMBER_HEATED_ROOMS  NUMBER_OPEN_FIREPLACES  HOTWATER_DESCRIPTION  FLOOR_DESCRIPTION  WINDOWS_DESCRIPTION  WINDOWS_ENERGY_EFF  WINDOWS_ENV_EFF  WALLS_DESCRIPTION  ROOF_DESCRIPTION  MAINHEAT_DESCRIPTION  MAINHEATCONT_DESCRIPTION  LIGHTING_DESCRIPTION  MAIN_FUEL  HEAT_LOSS_CORRIDOOR  MECHANICAL_VENTILATION  postcodeDistrict  postcodeSector  yearOfTransfer  monthOfTransfer  lowerQuartile  upperQuartile  pricePerType  pricePerRegion  salesVolume  lowerQuartile_na  upperQuartile_na  pricePerType_na  salesVolume_na\n",
       "0             5       1         1   179        13                   1.335155           7               14            28                 6                    1.414173                   -0.185561                     -0.121637              -0.138622               0.142510             -0.581682               -0.261290          0.186856              1               2            0                     48            3                1                       7                    7                       1                    20                 20                    5                   2                2                  3                91                    20                        48                    61         25                    0                       3                89             352              13                5      -0.088053      -0.297357      0.282285       -0.261687     0.167996         -0.002582         -0.002582        -0.086812       -0.026842\n",
       "1             4       1         1   815        13                  -0.029372           7               14            22                 6                   -0.049289                   -0.171137                     -0.149022              -0.137777              -0.298279             -0.007006               -0.321934         -0.116552              1               2            0                     44            4                1                       6                    6                       1                    20                 26                    5                   1                1                 38                97                    20                        44                    84         24                    0                       3                91             361               9               10      -0.594271      -0.533265      0.163808       -0.564153     0.167996         -0.002582         -0.002582        -0.086812       -0.026842"
      ]
     },
     "execution_count": 108,
     "metadata": {},
     "output_type": "execute_result"
    }
   ],
   "source": [
    "df[:2]"
   ]
  },
  {
   "cell_type": "code",
   "execution_count": 109,
   "metadata": {},
   "outputs": [],
   "source": [
    "train_ratio = 0.75\n",
    "train_size = int(len(dataSamp) * train_ratio)\n",
    "val_idx = list(range(train_size, len(df)))"
   ]
  },
  {
   "cell_type": "code",
   "execution_count": 121,
   "metadata": {},
   "outputs": [],
   "source": [
    "def inv_y(a): return np.exp(a)\n",
    "\n",
    "max_log_y = np.max(yl)\n",
    "y_range = (0, max_log_y*1.2)"
   ]
  },
  {
   "cell_type": "code",
   "execution_count": 125,
   "metadata": {},
   "outputs": [],
   "source": [
    "md = ColumnarModelData.from_data_frame(PATH, val_idx, df, yl.astype(np.float32),\n",
    "                                      bs=128, cat_flds=catVariables)"
   ]
  },
  {
   "cell_type": "code",
   "execution_count": 113,
   "metadata": {},
   "outputs": [
    {
     "data": {
      "text/plain": [
       "[('propertyType', 6), ('oldNew', 3)]"
      ]
     },
     "execution_count": 113,
     "metadata": {},
     "output_type": "execute_result"
    }
   ],
   "source": [
    "cat_sz = [(c, len(dataSamp[c].cat.categories)+1) for c in catVariables]\n",
    "cat_sz[:2]"
   ]
  },
  {
   "cell_type": "code",
   "execution_count": 114,
   "metadata": {},
   "outputs": [
    {
     "data": {
      "text/plain": [
       "[(6, 3), (3, 2)]"
      ]
     },
     "execution_count": 114,
     "metadata": {},
     "output_type": "execute_result"
    }
   ],
   "source": [
    "emb_szs = [(c, min(50, (c+1)//2)) for _,c in cat_sz]\n",
    "emb_szs[:2]"
   ]
  },
  {
   "cell_type": "code",
   "execution_count": 129,
   "metadata": {},
   "outputs": [],
   "source": [
    "m = md.get_learner(emb_szs, len(df.columns)-len(catVariables),\n",
    "                  0.05, 1, [1000, 1000, 500], [0.001, 0.001, 0.05],\n",
    "                  use_bn=True, y_range=y_range)\n",
    "lr = 1e-3"
   ]
  },
  {
   "cell_type": "code",
   "execution_count": 130,
   "metadata": {},
   "outputs": [
    {
     "data": {
      "application/vnd.jupyter.widget-view+json": {
       "model_id": "c90d24958b6b48d1aff03acff8323c8d",
       "version_major": 2,
       "version_minor": 0
      },
      "text/html": [
       "<p>Failed to display Jupyter Widget of type <code>HBox</code>.</p>\n",
       "<p>\n",
       "  If you're reading this message in the Jupyter Notebook or JupyterLab Notebook, it may mean\n",
       "  that the widgets JavaScript is still loading. If this message persists, it\n",
       "  likely means that the widgets JavaScript library is either not installed or\n",
       "  not enabled. See the <a href=\"https://ipywidgets.readthedocs.io/en/stable/user_install.html\">Jupyter\n",
       "  Widgets Documentation</a> for setup instructions.\n",
       "</p>\n",
       "<p>\n",
       "  If you're reading this message in another frontend (for example, a static\n",
       "  rendering on GitHub or <a href=\"https://nbviewer.jupyter.org/\">NBViewer</a>),\n",
       "  it may mean that your frontend doesn't currently support widgets.\n",
       "</p>\n"
      ],
      "text/plain": [
       "HBox(children=(IntProgress(value=0, description='Epoch', max=1), HTML(value='')))"
      ]
     },
     "metadata": {},
     "output_type": "display_data"
    },
    {
     "name": "stdout",
     "output_type": "stream",
     "text": [
      "epoch      trn_loss   val_loss                               \n",
      "    0      0.357453   0.361547  \n",
      "\n"
     ]
    }
   ],
   "source": [
    "m.lr_find()"
   ]
  },
  {
   "cell_type": "code",
   "execution_count": 132,
   "metadata": {},
   "outputs": [],
   "source": [
    "m = md.get_learner(emb_szs, len(df.columns)-len(catVariables),\n",
    "                  0.05, 1, [1000, 1000, 500], [0.001, 0.001, 0.05],\n",
    "                  use_bn=True, y_range=y_range)\n",
    "lr = 1e-3"
   ]
  },
  {
   "cell_type": "code",
   "execution_count": 133,
   "metadata": {},
   "outputs": [
    {
     "data": {
      "application/vnd.jupyter.widget-view+json": {
       "model_id": "79f97c7713534b53ae5412c5c7ee6711",
       "version_major": 2,
       "version_minor": 0
      },
      "text/html": [
       "<p>Failed to display Jupyter Widget of type <code>HBox</code>.</p>\n",
       "<p>\n",
       "  If you're reading this message in the Jupyter Notebook or JupyterLab Notebook, it may mean\n",
       "  that the widgets JavaScript is still loading. If this message persists, it\n",
       "  likely means that the widgets JavaScript library is either not installed or\n",
       "  not enabled. See the <a href=\"https://ipywidgets.readthedocs.io/en/stable/user_install.html\">Jupyter\n",
       "  Widgets Documentation</a> for setup instructions.\n",
       "</p>\n",
       "<p>\n",
       "  If you're reading this message in another frontend (for example, a static\n",
       "  rendering on GitHub or <a href=\"https://nbviewer.jupyter.org/\">NBViewer</a>),\n",
       "  it may mean that your frontend doesn't currently support widgets.\n",
       "</p>\n"
      ],
      "text/plain": [
       "HBox(children=(IntProgress(value=0, description='Epoch', max=2), HTML(value='')))"
      ]
     },
     "metadata": {},
     "output_type": "display_data"
    },
    {
     "name": "stdout",
     "output_type": "stream",
     "text": [
      "epoch      trn_loss   val_loss                               \n",
      "    0      0.349374   0.361547  \n",
      "    1      0.364864   0.361547                               \n",
      "\n"
     ]
    },
    {
     "data": {
      "text/plain": [
       "[0.36154658]"
      ]
     },
     "execution_count": 133,
     "metadata": {},
     "output_type": "execute_result"
    }
   ],
   "source": [
    "m.fit(lr, 2)"
   ]
  },
  {
   "cell_type": "code",
   "execution_count": 128,
   "metadata": {},
   "outputs": [
    {
     "data": {
      "application/vnd.jupyter.widget-view+json": {
       "model_id": "26539aadb5644c489dde567b5f2ce84d",
       "version_major": 2,
       "version_minor": 0
      },
      "text/html": [
       "<p>Failed to display Jupyter Widget of type <code>HBox</code>.</p>\n",
       "<p>\n",
       "  If you're reading this message in the Jupyter Notebook or JupyterLab Notebook, it may mean\n",
       "  that the widgets JavaScript is still loading. If this message persists, it\n",
       "  likely means that the widgets JavaScript library is either not installed or\n",
       "  not enabled. See the <a href=\"https://ipywidgets.readthedocs.io/en/stable/user_install.html\">Jupyter\n",
       "  Widgets Documentation</a> for setup instructions.\n",
       "</p>\n",
       "<p>\n",
       "  If you're reading this message in another frontend (for example, a static\n",
       "  rendering on GitHub or <a href=\"https://nbviewer.jupyter.org/\">NBViewer</a>),\n",
       "  it may mean that your frontend doesn't currently support widgets.\n",
       "</p>\n"
      ],
      "text/plain": [
       "HBox(children=(IntProgress(value=0, description='Epoch', max=5), HTML(value='')))"
      ]
     },
     "metadata": {},
     "output_type": "display_data"
    },
    {
     "name": "stdout",
     "output_type": "stream",
     "text": [
      "epoch      trn_loss   val_loss                               \n",
      "    0      0.36365    0.361547  \n",
      "    1      0.347822   0.361547                               \n",
      "    2      0.372445   0.361547                               \n",
      "    3      0.337216   0.361547                               \n",
      "    4      0.364522   0.361547                               \n",
      "\n"
     ]
    },
    {
     "data": {
      "text/plain": [
       "[0.36154658]"
      ]
     },
     "execution_count": 128,
     "metadata": {},
     "output_type": "execute_result"
    }
   ],
   "source": [
    "lr = 1e-4\n",
    "m.fit(lr, 5, cycle_len=1)"
   ]
  },
  {
   "cell_type": "code",
   "execution_count": 131,
   "metadata": {},
   "outputs": [
    {
     "data": {
      "image/png": "[encoded data removed]",
      "text/plain": [
       "<Figure size 432x288 with 1 Axes>"
      ]
     },
     "metadata": {},
     "output_type": "display_data"
    }
   ],
   "source": [
    "m.sched.plot(100)"
   ]
  }
 ],
 "metadata": {
  "kernelspec": {
   "display_name": "Python 2",
   "language": "python",
   "name": "python2"
  },
  "language_info": {
   "codemirror_mode": {
    "name": "ipython",
    "version": 2
   },
   "file_extension": ".py",
   "mimetype": "text/x-python",
   "name": "python",
   "nbconvert_exporter": "python",
   "pygments_lexer": "ipython2",
   "version": "2.7.14"
  }
 },
 "nbformat": 4,
 "nbformat_minor": 2
}
