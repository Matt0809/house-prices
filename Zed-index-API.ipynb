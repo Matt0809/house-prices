{
 "cells": [
  {
   "cell_type": "markdown",
   "metadata": {},
   "source": [
    "# Zed Index API"
   ]
  },
  {
   "cell_type": "code",
   "execution_count": 1,
   "metadata": {},
   "outputs": [],
   "source": [
    "import zoopla # Python wrapper for Zoopla API. Installed through pip.\n",
    "import pandas as pd\n",
    "pd.set_option('display.float_format', lambda x: '%.6f' % x,'display.max_columns', None, 'display.max_rows', None)\n",
    "\n",
    "# To get latest file in directory\n",
    "import glob\n",
    "import os\n",
    "\n",
    "import datetime\n",
    "from time import sleep\n",
    "import time"
   ]
  },
  {
   "cell_type": "markdown",
   "metadata": {},
   "source": [
    "### Example"
   ]
  },
  {
   "cell_type": "code",
   "execution_count": null,
   "metadata": {},
   "outputs": [],
   "source": [
    "# API key\n",
    "zoop = zoopla.Zoopla(api_key='...')"
   ]
  },
  {
   "cell_type": "code",
   "execution_count": 14,
   "metadata": {},
   "outputs": [],
   "source": [
    "zed_index = zoop.zed_index({\n",
    "    'area': 'E15',\n",
    "    'output_type': 'outcode',\n",
    "})"
   ]
  },
  {
   "cell_type": "code",
   "execution_count": 15,
   "metadata": {},
   "outputs": [
    {
     "data": {
      "text/plain": [
       "{'area_name': u'E15',\n",
       " 'area_url': u'https://www.zoopla.co.uk/home-values/london/e15/stratford-west-ham',\n",
       " 'bounding_box': {'latitude_max': 51.555339,\n",
       "  'latitude_min': 51.524292,\n",
       "  'longitude_max': 0.021336,\n",
       "  'longitude_min': -0.024567},\n",
       " 'country': u'England',\n",
       " 'county': u'London',\n",
       " 'postcode': u'E15',\n",
       " 'street': u'',\n",
       " 'town': u'',\n",
       " 'zed_index': 415974,\n",
       " 'zed_index_1year': 399382,\n",
       " 'zed_index_2year': 390664,\n",
       " 'zed_index_3month': 415964,\n",
       " 'zed_index_3year': 336620,\n",
       " 'zed_index_4year': 302411,\n",
       " 'zed_index_5year': 268220,\n",
       " 'zed_index_6month': 409576}"
      ]
     },
     "execution_count": 15,
     "metadata": {},
     "output_type": "execute_result"
    }
   ],
   "source": [
    "zed_index"
   ]
  },
  {
   "cell_type": "markdown",
   "metadata": {},
   "source": [
    "### Execution code"
   ]
  },
  {
   "cell_type": "code",
   "execution_count": 4,
   "metadata": {},
   "outputs": [],
   "source": [
    "\"\"\"\n",
    "API keys\n",
    "\"\"\"\n",
    "\n",
    "current = []  # List to assist in deleting old listings\n",
    "c=0 # Counter \n",
    "api = {'API_1':'...','API_2':'...'}"
   ]
  },
  {
   "cell_type": "code",
   "execution_count": 8,
   "metadata": {},
   "outputs": [
    {
     "name": "stdout",
     "output_type": "stream",
     "text": [
      "0\n",
      "1\n",
      "2\n",
      "3\n",
      "Matt Row:  3\n",
      "4\n",
      "\n"
     ]
    }
   ],
   "source": [
    "\"\"\"\n",
    "Keeps running until all from original data have a zed index. Each API key can manage 100/hour so recommended to filter down to only the ones most interested in \n",
    "e.g. Commute times both within a range\n",
    "\"\"\"\n",
    "\n",
    "import zoopla\n",
    "list_of_files = glob.glob('.../filtered/*') # * means all if need specific format then *.csv\n",
    "latest_file = max(list_of_files, key=os.path.getctime)\n",
    "df = pd.read_csv(latest_file,index_col=0)\n",
    "# df = df.transpose()\n",
    "\n",
    "c = -1\n",
    "\n",
    "t0 = time.time()\n",
    "\n",
    "for i, row in df.iterrows():\n",
    "    c += 1\n",
    "    print c\n",
    "    address = row[\"outcode\"]\n",
    "    if 'zed_index' not in row.keys():\n",
    "        try:\n",
    "            zoop = zoopla.Zoopla(api_key=api['API_1'])\n",
    "            print \"API_1 Row: \",c\n",
    "            zed_index = zoop.zed_index({'area': address,'output_type': 'outcode'})\n",
    "            df.loc[i,\"zed_index\"] = zed_index[\"zed_index\"]\n",
    "            df.loc[i,\"zed_index_3month\"] = zed_index[\"zed_index_3month\"]\n",
    "            df.loc[i,\"zed_index_6month\"] = zed_index[\"zed_index_6month\"]\n",
    "            df.loc[i,\"zed_index_1year\"] = zed_index[\"zed_index_1year\"]\n",
    "            df.loc[i,\"zed_index_2year\"] = zed_index[\"zed_index_2year\"]\n",
    "            df.loc[i,\"zed_index_3year\"] = zed_index[\"zed_index_3year\"]\n",
    "            df.loc[i,\"zed_index_4year\"] = zed_index[\"zed_index_4year\"]\n",
    "            df.loc[i,\"zed_index_5year\"] = zed_index[\"zed_index_5year\"]\n",
    "\n",
    "        except zoopla.exceptions.ZooplaAPIException: \n",
    "            try:\n",
    "                zoop = zoopla.Zoopla(api_key=api['API_2'])\n",
    "                print \"API_2 Row: \",c\n",
    "                zed_index = zoop.zed_index({'area': address,'output_type': 'outcode'})\n",
    "                df.loc[i,\"zed_index\"] = zed_index[\"zed_index\"]\n",
    "                df.loc[i,\"zed_index_3month\"] = zed_index[\"zed_index_3month\"]\n",
    "                df.loc[i,\"zed_index_6month\"] = zed_index[\"zed_index_6month\"]\n",
    "                df.loc[i,\"zed_index_1year\"] = zed_index[\"zed_index_1year\"]\n",
    "                df.loc[i,\"zed_index_2year\"] = zed_index[\"zed_index_2year\"]\n",
    "                df.loc[i,\"zed_index_3year\"] = zed_index[\"zed_index_3year\"]\n",
    "                df.loc[i,\"zed_index_4year\"] = zed_index[\"zed_index_4year\"]\n",
    "                df.loc[i,\"zed_index_5year\"] = zed_index[\"zed_index_5year\"]\n",
    "\n",
    "\n",
    "            except zoopla.exceptions.ZooplaAPIException:\n",
    "                now = datetime.datetime.now()\n",
    "                h = int(now.strftime(\"%H\"))+1\n",
    "                t = now.replace(hour=h,minute=0,second=0)\n",
    "                wait = t - now\n",
    "                print now\n",
    "                print \"Waiting for 60 minutes.\"\n",
    "                sleep(3600)\n",
    "\n",
    "                zoop = zoopla.Zoopla(api_key=api['API_1'])\n",
    "                print \"API_1 Row: \",c\n",
    "                zed_index = zoop.zed_index({'area': address,'output_type': 'outcode'})\n",
    "                df.loc[i,\"zed_index\"] = zed_index[\"zed_index\"]\n",
    "                df.loc[i,\"zed_index_3month\"] = zed_index[\"zed_index_3month\"]\n",
    "                df.loc[i,\"zed_index_6month\"] = zed_index[\"zed_index_6month\"]\n",
    "                df.loc[i,\"zed_index_1year\"] = zed_index[\"zed_index_1year\"]\n",
    "                df.loc[i,\"zed_index_2year\"] = zed_index[\"zed_index_2year\"]\n",
    "                df.loc[i,\"zed_index_3year\"] = zed_index[\"zed_index_3year\"]\n",
    "                df.loc[i,\"zed_index_4year\"] = zed_index[\"zed_index_4year\"]\n",
    "                df.loc[i,\"zed_index_5year\"] = zed_index[\"zed_index_5year\"]\n",
    "    if 'zed_index' in row.keys():\n",
    "        if row[\"zed_index\"] != row[\"zed_index\"]:\n",
    "            try:\n",
    "                zoop = zoopla.Zoopla(api_key=api['API_1'])\n",
    "                print \"API_1 Row: \",c\n",
    "                zed_index = zoop.zed_index({'area': address,'output_type': 'outcode'})\n",
    "                df.loc[i,\"zed_index\"] = zed_index[\"zed_index\"]\n",
    "                df.loc[i,\"zed_index_3month\"] = zed_index[\"zed_index_3month\"]\n",
    "                df.loc[i,\"zed_index_6month\"] = zed_index[\"zed_index_6month\"]\n",
    "                df.loc[i,\"zed_index_1year\"] = zed_index[\"zed_index_1year\"]\n",
    "                df.loc[i,\"zed_index_2year\"] = zed_index[\"zed_index_2year\"]\n",
    "                df.loc[i,\"zed_index_3year\"] = zed_index[\"zed_index_3year\"]\n",
    "                df.loc[i,\"zed_index_4year\"] = zed_index[\"zed_index_4year\"]\n",
    "                df.loc[i,\"zed_index_5year\"] = zed_index[\"zed_index_5year\"]\n",
    "\n",
    "            except zoopla.exceptions.ZooplaAPIException: \n",
    "                try:\n",
    "                    zoop = zoopla.Zoopla(api_key=api['API_2'])\n",
    "                    print \"API_2 Row: \",c\n",
    "                    zed_index = zoop.zed_index({'area': address,'output_type': 'outcode'})\n",
    "                    df.loc[i,\"zed_index\"] = zed_index[\"zed_index\"]\n",
    "                    df.loc[i,\"zed_index_3month\"] = zed_index[\"zed_index_3month\"]\n",
    "                    df.loc[i,\"zed_index_6month\"] = zed_index[\"zed_index_6month\"]\n",
    "                    df.loc[i,\"zed_index_1year\"] = zed_index[\"zed_index_1year\"]\n",
    "                    df.loc[i,\"zed_index_2year\"] = zed_index[\"zed_index_2year\"]\n",
    "                    df.loc[i,\"zed_index_3year\"] = zed_index[\"zed_index_3year\"]\n",
    "                    df.loc[i,\"zed_index_4year\"] = zed_index[\"zed_index_4year\"]\n",
    "                    df.loc[i,\"zed_index_5year\"] = zed_index[\"zed_index_5year\"]\n",
    "\n",
    "\n",
    "                except zoopla.exceptions.ZooplaAPIException:\n",
    "                    now = datetime.datetime.now()\n",
    "                    h = int(now.strftime(\"%H\"))+1\n",
    "                    t = now.replace(hour=h,minute=0,second=0)\n",
    "                    wait = t - now\n",
    "                    print now\n",
    "                    print \"Waiting for 60 minutes.\"\n",
    "                    sleep(3600)\n",
    "\n",
    "                    zoop = zoopla.Zoopla(api_key=api['API_1'])\n",
    "                    print \"API_1 Row: \",c\n",
    "                    zed_index = zoop.zed_index({'area': address,'output_type': 'outcode'})\n",
    "                    df.loc[i,\"zed_index\"] = zed_index[\"zed_index\"]\n",
    "                    df.loc[i,\"zed_index_3month\"] = zed_index[\"zed_index_3month\"]\n",
    "                    df.loc[i,\"zed_index_6month\"] = zed_index[\"zed_index_6month\"]\n",
    "                    df.loc[i,\"zed_index_1year\"] = zed_index[\"zed_index_1year\"]\n",
    "                    df.loc[i,\"zed_index_2year\"] = zed_index[\"zed_index_2year\"]\n",
    "                    df.loc[i,\"zed_index_3year\"] = zed_index[\"zed_index_3year\"]\n",
    "                    df.loc[i,\"zed_index_4year\"] = zed_index[\"zed_index_4year\"]\n",
    "                    df.loc[i,\"zed_index_5year\"] = zed_index[\"zed_index_5year\"]\n",
    "\n",
    "print \"Finished both 10,000 cycles.\"\n",
    "# df = df.transpose()\n",
    "now = datetime.datetime.now().strftime(\"%H%M%d%m%y\")\n",
    "df.to_csv(\".../zedindex/\"+str(now)+\".csv\",encoding='utf-8')\n",
    "t1 = time.time()\n",
    "total = t1-t0\n",
    "print \"Time: \", total"
   ]
  }
 ],
 "metadata": {
  "kernelspec": {
   "display_name": "Python 2",
   "language": "python",
   "name": "python2"
  },
  "language_info": {
   "codemirror_mode": {
    "name": "ipython",
    "version": 2
   },
   "file_extension": ".py",
   "mimetype": "text/x-python",
   "name": "python",
   "nbconvert_exporter": "python",
   "pygments_lexer": "ipython2",
   "version": "2.7.14"
  }
 },
 "nbformat": 4,
 "nbformat_minor": 2
}
